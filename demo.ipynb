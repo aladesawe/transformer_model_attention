{
 "cells": [
  {
   "cell_type": "code",
   "execution_count": 27,
   "metadata": {},
   "outputs": [],
   "source": [
    "import pathlib\n",
    "import tensorflow as tf"
   ]
  },
  {
   "cell_type": "markdown",
   "metadata": {},
   "source": [
    "## Download the dataset provided by Anki, https://www.manythings.org/anki/\n",
    "Using the keras library, we download the text file representing the dataset"
   ]
  },
  {
   "cell_type": "code",
   "execution_count": 28,
   "metadata": {},
   "outputs": [],
   "source": [
    "text_file = tf.keras.utils.get_file(\n",
    "    fname=\"fra-eng.zip\",\n",
    "    origin=\"http://storage.googleapis.com/download.tensorflow.org/data/fra-eng.zip\",\n",
    "    extract=True,\n",
    ")"
   ]
  },
  {
   "cell_type": "code",
   "execution_count": 29,
   "metadata": {},
   "outputs": [
    {
     "name": "stdout",
     "output_type": "stream",
     "text": [
      "/Users/adeyemialadesawe/.keras/datasets/fra.txt\n"
     ]
    }
   ],
   "source": [
    "# show where the file is located now\n",
    "text_file = pathlib.Path(text_file).parent / \"fra.txt\"\n",
    "print(text_file)"
   ]
  },
  {
   "cell_type": "markdown",
   "metadata": {},
   "source": [
    "## Normalize the strings"
   ]
  },
  {
   "cell_type": "code",
   "execution_count": 30,
   "metadata": {},
   "outputs": [],
   "source": [
    "import pickle\n",
    "import random\n",
    "import re\n",
    "import unicodedata\n",
    "\n",
    "import tensorflow as tf\n",
    "\n",
    "def normalize(line):\n",
    "    \"\"\"\n",
    "    Normalize a line of text and split into two at the etab character.\n",
    "    Each word should be a separate token as well as each punctuation mark.\n",
    "    However, the punctuation used in contractions such as don’t, va-t-il,or c’est are not separated from the words.\n",
    "    Algo:\n",
    "    use the Python module unicodedata to convert a Unicode string into NFKC normal form.\n",
    "    Then you will use regular expression to add space around punctuation marks.\n",
    "    Afterward, you will wrap the French sentences (i.e., the target language) with sentinels [start] and [end].\n",
    "    \"\"\"\n",
    "    line = unicodedata.normalize(\"NFKC\",  line.strip().lower())\n",
    "    b4 = line\n",
    "    line = re.sub(r\"^([^ \\w])(?!\\s)\", r\"\\1 \", line)\n",
    "    line = re.sub(r\"(\\s[^ \\w])(?!\\s)\", r\"\\1 \", line)\n",
    "    line = re.sub(r\"(?!\\s)([^ \\w])$\", r\" \\1\", line)\n",
    "    line = re.sub(r\"(?!\\s)([^ \\w]\\s)\", r\" \\1\", line)\n",
    "    try:\n",
    "        eng, fra = line.split(\"\\t\")\n",
    "    except Exception as e:\n",
    "        print(f\"{e} raised \\n\")\n",
    "        print(f\"before: '{b4}' \\n after: '{line}'.\")\n",
    "    fra = \"[start] \" + fra + \" [end]\"\n",
    "    return eng, fra"
   ]
  },
  {
   "cell_type": "code",
   "execution_count": 33,
   "metadata": {},
   "outputs": [
    {
     "name": "stdout",
     "output_type": "stream",
     "text": [
      "` \" i forgot, \" she said .`\n",
      "`[start]  \" j'ai oublié\" , répondit-elle . [end]`\n"
     ]
    }
   ],
   "source": [
    "line = \"\"\"\"I forgot,\" she said.\t\"J'ai oublié\", répondit-elle.\"\"\"\n",
    "eng, fra = normalize(line)\n",
    "print(f'`{eng}`')\n",
    "print(f'`{fra}`')"
   ]
  },
  {
   "cell_type": "code",
   "execution_count": 34,
   "metadata": {},
   "outputs": [],
   "source": [
    "# normalize each line and separate into English and French\n",
    "with open(text_file) as fp:\n",
    "    text_pairs = [normalize(line) for line in fp]"
   ]
  },
  {
   "cell_type": "code",
   "execution_count": 35,
   "metadata": {},
   "outputs": [
    {
     "name": "stdout",
     "output_type": "stream",
     "text": [
      "('there were no other survivors .', \"[start] il n'y avait pas d'autres survivants . [end]\")\n",
      "(\"let's try something .\", '[start] tentons quelque chose  !  [end]')\n",
      "(\"something happened here , but i don't know what .\", \"[start] quelque chose s'est produit ici , mais j'ignore quoi . [end]\")\n",
      "('could i borrow a saw ?', '[start] pourrais-je emprunter une scie  ?  [end]')\n",
      "(\"i'm here to talk about tom .\", '[start] je suis ici pour parler de tom . [end]')\n"
     ]
    }
   ],
   "source": [
    "# print some samples\n",
    "for _ in range(5):\n",
    "    print(random.choice(text_pairs))"
   ]
  },
  {
   "cell_type": "code",
   "execution_count": 36,
   "metadata": {},
   "outputs": [],
   "source": [
    "with open(\"text_pairs.pickle\", \"wb\") as fp:\n",
    "    pickle.dump(text_pairs, fp)"
   ]
  },
  {
   "cell_type": "markdown",
   "metadata": {},
   "source": [
    "## Explore the token statistics in each language"
   ]
  },
  {
   "cell_type": "code",
   "execution_count": 37,
   "metadata": {},
   "outputs": [
    {
     "name": "stdout",
     "output_type": "stream",
     "text": [
      "Total English tokens: 14969\n",
      "Total French tokens: 29219\n",
      "Max English length: 51\n",
      "Max French length: 60\n",
      "167130 total pairs\n"
     ]
    }
   ],
   "source": [
    "import pickle\n",
    "\n",
    "with open(\"text_pairs.pickle\", \"rb\") as fp:\n",
    "    text_pairs = pickle.load(fp)\n",
    "\n",
    "# count tokens\n",
    "eng_tokens, fra_tokens = set(), set()\n",
    "eng_maxlen, fra_maxlen = 0, 0\n",
    "for eng, fra in text_pairs:\n",
    "    eng_tok, fra_tok = eng.split(), fra.split()\n",
    "    eng_maxlen = max(eng_maxlen, len(eng_tok))\n",
    "    fra_maxlen = max(fra_maxlen, len(fra_tok))\n",
    "    eng_tokens.update(eng_tok)\n",
    "    fra_tokens.update(fra_tok)\n",
    "\n",
    "print(f\"Total English tokens: {len(eng_tokens)}\")\n",
    "print(f\"Total French tokens: {len(fra_tokens)}\")\n",
    "print(f\"Max English length: {eng_maxlen}\")\n",
    "print(f\"Max French length: {fra_maxlen}\")\n",
    "print(f\"{len(text_pairs)} total pairs\")"
   ]
  },
  {
   "cell_type": "markdown",
   "metadata": {},
   "source": [
    "## Historgram to show distribution of the tokens"
   ]
  },
  {
   "cell_type": "code",
   "execution_count": 38,
   "metadata": {},
   "outputs": [
    {
     "data": {
      "image/png": "[encoded data removed]",
      "text/plain": [
       "<Figure size 640x480 with 1 Axes>"
      ]
     },
     "metadata": {},
     "output_type": "display_data"
    }
   ],
   "source": [
    "import pickle\n",
    "import matplotlib.pyplot as plt\n",
    "\n",
    "with open(\"text_pairs.pickle\", \"rb\") as fp:\n",
    "    text_pairs = pickle.load(fp)\n",
    "\n",
    "# histogram of sentence length in tokens\n",
    "en_lengths = [len(eng.split()) for eng, _ in text_pairs]\n",
    "fr_lengths = [len(fra.split()) for _, fra in text_pairs]\n",
    "\n",
    "plt.hist(en_lengths, label=\"en\", color=\"red\", alpha=0.33)\n",
    "plt.hist(fr_lengths, label=\"fr\", color=\"blue\", alpha=0.33)\n",
    "plt.yscale(\"log\")   # sentence length fits Benford's law\n",
    "plt.ylim(plt.ylim())    # make y-axis consistent for both plots\n",
    "plt.plot([max(en_lengths), max(en_lengths)], plt.ylim(), color=\"red\")\n",
    "plt.plot([max(fr_lengths), max(fr_lengths)], plt.ylim(), color=\"blue\")\n",
    "plt.legend()\n",
    "plt.title(\"Examples count vs Token length\")\n",
    "plt.show()"
   ]
  }
 ],
 "metadata": {
  "kernelspec": {
   "display_name": "base",
   "language": "python",
   "name": "python3"
  },
  "language_info": {
   "codemirror_mode": {
    "name": "ipython",
    "version": 3
   },
   "file_extension": ".py",
   "mimetype": "text/x-python",
   "name": "python",
   "nbconvert_exporter": "python",
   "pygments_lexer": "ipython3",
   "version": "3.11.0"
  }
 },
 "nbformat": 4,
 "nbformat_minor": 2
}
