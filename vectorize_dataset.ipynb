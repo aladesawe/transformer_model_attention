{
 "cells": [
  {
   "cell_type": "code",
   "execution_count": 1,
   "metadata": {},
   "outputs": [],
   "source": [
    "import pickle\n",
    "import random\n",
    "\n",
    "from tensorflow.keras.layers import TextVectorization\n",
    "\n",
    "# Load normalized sentence pairs\n",
    "with open(\"text_pairs.pickle\", \"rb\") as fp:\n",
    "    text_pairs = pickle.load(fp)\n",
    "\n",
    "# train-test-val split of randomized sentences pairs\n",
    "random.shuffle(text_pairs)\n",
    "n_val = int(0.15*len(text_pairs))\n",
    "n_train = len(text_pairs) - 2*n_val\n",
    "train_pairs = text_pairs[:n_train]\n",
    "val_pairs = text_pairs[n_train:n_train+n_val]\n",
    "test_pairs = text_pairs[n_train+n_val:]"
   ]
  },
  {
   "cell_type": "code",
   "execution_count": 3,
   "metadata": {},
   "outputs": [],
   "source": [
    "# Parameter determined after analyzing the input data\n",
    "vocab_size_en = 10000\n",
    "vocab_size_fr = 20000\n",
    "seq_length = 20\n",
    "\n",
    "# Create vectorizer\n",
    "eng_vectorizer = TextVectorization(\n",
    "    max_tokens=vocab_size_en,\n",
    "    standardize=None,\n",
    "    split=\"whitespace\",\n",
    "    output_mode=\"int\",\n",
    "    output_sequence_length=seq_length,\n",
    ")\n",
    "fra_vectorizer = TextVectorization(\n",
    "    max_tokens=vocab_size_fr,\n",
    "    standardize=None,\n",
    "    split=\"whitespace\",\n",
    "    output_mode=\"int\",\n",
    "    output_sequence_length=seq_length + 1,\n",
    ")\n",
    "\n",
    "# train the vectorization layer using training dataset\n",
    "train_eng_texts = [pair[0] for pair in train_pairs]\n",
    "train_fra_texts = [pair[1] for pair in train_pairs]\n",
    "eng_vectorizer.adapt(train_eng_texts)\n",
    "fra_vectorizer.adapt(train_fra_texts)\n",
    "\n",
    "# save for subsequent steps\n",
    "with open(\"vectorize.pickle\", \"wb\") as fp:\n",
    "    data = {\n",
    "        \"train\": train_pairs,\n",
    "        \"val\": val_pairs,\n",
    "        \"test\": test_pairs,\n",
    "        \"engvec_config\": eng_vectorizer.get_config(),\n",
    "        \"engvec_weights\": eng_vectorizer.get_weights(),\n",
    "        \"fravec_config\": fra_vectorizer.get_config(),\n",
    "        \"fravec_weights\": fra_vectorizer.get_weights(),\n",
    "    }\n",
    "    pickle.dump(data, fp)"
   ]
  },
  {
   "cell_type": "code",
   "execution_count": 4,
   "metadata": {},
   "outputs": [
    {
     "name": "stdout",
     "output_type": "stream",
     "text": [
      "inputs[\"encoder_inputs\"].shape: (64, 20)\n",
      "inputs[\"encoder_inputs\"][0]: [107  35   5  80 679  63   4  20 252   2   0   0   0   0   0   0   0   0\n",
      "   0   0]\n",
      "inputs[\"decoder_inputs\"].shape: (64, 20)\n",
      "inputs[\"decoder_inputs\"][0]: [   2  141   14 4653   17   49   14  161 2537    8 2910    4    3    0\n",
      "    0    0    0    0    0    0]\n",
      "targets.shape: (64, 20)\n",
      "targets[0]: [ 141   14 4653   17   49   14  161 2537    8 2910    4    3    0    0\n",
      "    0    0    0    0    0    0]\n"
     ]
    },
    {
     "name": "stderr",
     "output_type": "stream",
     "text": [
      "2024-03-23 15:57:11.050440: I tensorflow/core/common_runtime/executor.cc:1197] [/device:CPU:0] (DEBUG INFO) Executor start aborting (this does not indicate an error and you can ignore this message): INVALID_ARGUMENT: You must feed a value for placeholder tensor 'Placeholder/_0' with dtype string and shape [116992]\n",
      "\t [[{{node Placeholder/_0}}]]\n",
      "2024-03-23 15:57:11.050868: I tensorflow/core/common_runtime/executor.cc:1197] [/device:CPU:0] (DEBUG INFO) Executor start aborting (this does not indicate an error and you can ignore this message): INVALID_ARGUMENT: You must feed a value for placeholder tensor 'Placeholder/_16' with dtype int64\n",
      "\t [[{{node Placeholder/_16}}]]\n",
      "2024-03-23 15:57:11.090802: W tensorflow/core/kernels/data/cache_dataset_ops.cc:856] The calling iterator did not fully read the dataset being cached. In order to avoid unexpected truncation of the dataset, the partially cached contents of the dataset  will be discarded. This can happen if you have an input pipeline similar to `dataset.cache().take(k).repeat()`. You should use `dataset.take(k).cache().repeat()` instead.\n"
     ]
    }
   ],
   "source": [
    "import pickle\n",
    "\n",
    "import tensorflow as tf\n",
    "from tensorflow.keras.layers import TextVectorization\n",
    "\n",
    "# load text data and vectorizer weights\n",
    "with open(\"vectorize.pickle\", \"rb\") as fp:\n",
    "    data = pickle.load(fp)\n",
    "\n",
    "train_pairs = data[\"train\"]\n",
    "val_pairs = data[\"val\"]\n",
    "\n",
    "eng_vectorizer = TextVectorization.from_config(data[\"engvec_config\"])\n",
    "eng_vectorizer.set_weights(data[\"engvec_weights\"])\n",
    "fra_vectorizer = TextVectorization.from_config(data[\"fravec_config\"])\n",
    "fra_vectorizer.set_weights(data[\"fravec_weights\"])\n",
    "\n",
    "# set up Dataset object\n",
    "def format_dataset(eng, fra):\n",
    "    \"\"\"Take an English and a French sentence pair, convert into input and target.\n",
    "    The input is a dict with keys `encoder_inputs` and `decoder_inputs`, each\n",
    "    is a vector, corresponding to English and French sentences respectively.\n",
    "    The target is also vector of the French sentence, advanced by 1 token. All\n",
    "    vector are in the same length.\n",
    "    The output will be used for training the transformer model. In the model we\n",
    "    will create, the input tensors are named `encoder_inputs` and `decoder_inputs`\n",
    "    which should be matched to the keys in the dictionary for the source part\n",
    "    \"\"\"\n",
    "    eng = eng_vectorizer(eng)\n",
    "    fra = fra_vectorizer(fra)\n",
    "    source = {\"encoder_inputs\": eng,\n",
    "                \"decoder_inputs\": fra[:, :-1]}\n",
    "    target = fra[:, 1:]\n",
    "    return (source, target)\n",
    "\n",
    "def make_dataset(pairs, batch_size=64):\n",
    "    \"\"\"Create TensorFlow Dataset for the sentence pairs\"\"\"\n",
    "    # aggregate sentences using zip(*pairs)\n",
    "    eng_texts, fra_texts = zip(*pairs)\n",
    "    # convert them into list, and then create tensors\n",
    "    dataset = tf.data.Dataset.from_tensor_slices((list(eng_texts), list(fra_texts)))\n",
    "    return dataset.shuffle(2048) \\\n",
    "                    .batch(batch_size).map(format_dataset) \\\n",
    "                    .prefetch(16).cache()\n",
    "\n",
    "train_ds = make_dataset(train_pairs)\n",
    "val_ds = make_dataset(val_pairs)\n",
    "\n",
    "# test the dataset\n",
    "for inputs, targets in train_ds.take(1):\n",
    "    print(f'inputs[\"encoder_inputs\"].shape: {inputs[\"encoder_inputs\"].shape}')\n",
    "    print(f'inputs[\"encoder_inputs\"][0]: {inputs[\"encoder_inputs\"][0]}')\n",
    "    print(f'inputs[\"decoder_inputs\"].shape: {inputs[\"decoder_inputs\"].shape}')\n",
    "    print(f'inputs[\"decoder_inputs\"][0]: {inputs[\"decoder_inputs\"][0]}')\n",
    "    print(f\"targets.shape: {targets.shape}\")\n",
    "    print(f\"targets[0]: {targets[0]}\")"
   ]
  },
  {
   "cell_type": "code",
   "execution_count": 20,
   "metadata": {},
   "outputs": [
    {
     "name": "stdout",
     "output_type": "stream",
     "text": [
      "tf.Tensor(\n",
      "[[  46   87  177 ...    0    0    0]\n",
      " [  12  266    5 ...    0    0    0]\n",
      " [   4   53   19 ...    0    0    0]\n",
      " ...\n",
      " [  26  326  380 ...    0    0    0]\n",
      " [  43    6 4850 ...    0    0    0]\n",
      " [1307   40  461 ...    0    0    0]], shape=(64, 20), dtype=int64)\n",
      "(64, 20, 512)\n",
      "tf.Tensor(\n",
      "[[ True  True  True ... False False False]\n",
      " [ True  True  True ... False False False]\n",
      " [ True  True  True ... False False False]\n",
      " ...\n",
      " [ True  True  True ... False False False]\n",
      " [ True  True  True ... False False False]\n",
      " [ True  True  True ... False False False]], shape=(64, 20), dtype=bool)\n"
     ]
    },
    {
     "name": "stderr",
     "output_type": "stream",
     "text": [
      "2024-03-21 18:48:41.220016: I tensorflow/core/common_runtime/executor.cc:1197] [/device:CPU:0] (DEBUG INFO) Executor start aborting (this does not indicate an error and you can ignore this message): INVALID_ARGUMENT: You must feed a value for placeholder tensor 'Placeholder/_13' with dtype string\n",
      "\t [[{{node Placeholder/_13}}]]\n",
      "2024-03-21 18:48:41.220399: I tensorflow/core/common_runtime/executor.cc:1197] [/device:CPU:0] (DEBUG INFO) Executor start aborting (this does not indicate an error and you can ignore this message): INVALID_ARGUMENT: You must feed a value for placeholder tensor 'Placeholder/_0' with dtype string and shape [116992]\n",
      "\t [[{{node Placeholder/_0}}]]\n",
      "2024-03-21 18:48:41.252901: W tensorflow/core/kernels/data/cache_dataset_ops.cc:856] The calling iterator did not fully read the dataset being cached. In order to avoid unexpected truncation of the dataset, the partially cached contents of the dataset  will be discarded. This can happen if you have an input pipeline similar to `dataset.cache().take(k).repeat()`. You should use `dataset.take(k).cache().repeat()` instead.\n"
     ]
    }
   ],
   "source": [
    "from util import PositionalEmbedding\n",
    "\n",
    "vocab_size_en = 10000\n",
    "seq_length = 20\n",
    "\n",
    "# test the dataset\n",
    "for inputs, targets in train_ds.take(1):\n",
    "    print(inputs[\"encoder_inputs\"])\n",
    "    embed_en = PositionalEmbedding(seq_length, vocab_size_en, embed_dim=512)\n",
    "    en_emb = embed_en(inputs[\"encoder_inputs\"])\n",
    "    print(en_emb.shape)\n",
    "    print(en_emb._keras_mask)"
   ]
  },
  {
   "cell_type": "code",
   "execution_count": 21,
   "metadata": {},
   "outputs": [
    {
     "name": "stderr",
     "output_type": "stream",
     "text": [
      "WARNING:absl:At this time, the v2.11+ optimizer `tf.keras.optimizers.Adam` runs slowly on M1/M2 Macs, please use the legacy Keras optimizer instead, located at `tf.keras.optimizers.legacy.Adam`.\n",
      "WARNING:absl:There is a known slowdown when using v2.11+ Keras optimizers on M1/M2 Macs. Falling back to the legacy Keras optimizer, i.e., `tf.keras.optimizers.legacy.Adam`.\n"
     ]
    },
    {
     "name": "stdout",
     "output_type": "stream",
     "text": [
      "Epoch 1/20\n"
     ]
    },
    {
     "name": "stderr",
     "output_type": "stream",
     "text": [
      "2024-03-21 18:48:42.940959: I tensorflow/core/common_runtime/executor.cc:1197] [/device:CPU:0] (DEBUG INFO) Executor start aborting (this does not indicate an error and you can ignore this message): INVALID_ARGUMENT: You must feed a value for placeholder tensor 'Placeholder/_13' with dtype string\n",
      "\t [[{{node Placeholder/_13}}]]\n",
      "2024-03-21 18:48:42.941255: I tensorflow/core/common_runtime/executor.cc:1197] [/device:CPU:0] (DEBUG INFO) Executor start aborting (this does not indicate an error and you can ignore this message): INVALID_ARGUMENT: You must feed a value for placeholder tensor 'Placeholder/_18' with dtype int64\n",
      "\t [[{{node Placeholder/_18}}]]\n"
     ]
    },
    {
     "name": "stdout",
     "output_type": "stream",
     "text": [
      "WARNING:tensorflow:AutoGraph could not transform <function masked_loss at 0x1798d9760> and will run it as-is.\n",
      "Please report this to the TensorFlow team. When filing the bug, set the verbosity to 10 (on Linux, `export AUTOGRAPH_VERBOSITY=10`) and attach the full output.\n",
      "Cause: '{' was never closed (<unknown>, line 1)\n",
      "To silence this warning, decorate the function with @tf.autograph.experimental.do_not_convert\n"
     ]
    },
    {
     "name": "stderr",
     "output_type": "stream",
     "text": [
      "WARNING:tensorflow:AutoGraph could not transform <function masked_loss at 0x1798d9760> and will run it as-is.\n",
      "Please report this to the TensorFlow team. When filing the bug, set the verbosity to 10 (on Linux, `export AUTOGRAPH_VERBOSITY=10`) and attach the full output.\n",
      "Cause: '{' was never closed (<unknown>, line 1)\n",
      "To silence this warning, decorate the function with @tf.autograph.experimental.do_not_convert\n"
     ]
    },
    {
     "name": "stdout",
     "output_type": "stream",
     "text": [
      "WARNING: AutoGraph could not transform <function masked_loss at 0x1798d9760> and will run it as-is.\n",
      "Please report this to the TensorFlow team. When filing the bug, set the verbosity to 10 (on Linux, `export AUTOGRAPH_VERBOSITY=10`) and attach the full output.\n",
      "Cause: '{' was never closed (<unknown>, line 1)\n",
      "To silence this warning, decorate the function with @tf.autograph.experimental.do_not_convert\n",
      "WARNING:tensorflow:AutoGraph could not transform <function masked_accuracy at 0x1798d9800> and will run it as-is.\n",
      "Please report this to the TensorFlow team. When filing the bug, set the verbosity to 10 (on Linux, `export AUTOGRAPH_VERBOSITY=10`) and attach the full output.\n",
      "Cause: '{' was never closed (<unknown>, line 1)\n",
      "To silence this warning, decorate the function with @tf.autograph.experimental.do_not_convert\n"
     ]
    },
    {
     "name": "stderr",
     "output_type": "stream",
     "text": [
      "WARNING:tensorflow:AutoGraph could not transform <function masked_accuracy at 0x1798d9800> and will run it as-is.\n",
      "Please report this to the TensorFlow team. When filing the bug, set the verbosity to 10 (on Linux, `export AUTOGRAPH_VERBOSITY=10`) and attach the full output.\n",
      "Cause: '{' was never closed (<unknown>, line 1)\n",
      "To silence this warning, decorate the function with @tf.autograph.experimental.do_not_convert\n"
     ]
    },
    {
     "name": "stdout",
     "output_type": "stream",
     "text": [
      "WARNING: AutoGraph could not transform <function masked_accuracy at 0x1798d9800> and will run it as-is.\n",
      "Please report this to the TensorFlow team. When filing the bug, set the verbosity to 10 (on Linux, `export AUTOGRAPH_VERBOSITY=10`) and attach the full output.\n",
      "Cause: '{' was never closed (<unknown>, line 1)\n",
      "To silence this warning, decorate the function with @tf.autograph.experimental.do_not_convert\n",
      "1828/1828 [==============================] - ETA: 0s - loss: 5.2098 - masked_accuracy: 0.3057"
     ]
    },
    {
     "name": "stderr",
     "output_type": "stream",
     "text": [
      "2024-03-21 19:07:43.013887: I tensorflow/core/common_runtime/executor.cc:1197] [/device:CPU:0] (DEBUG INFO) Executor start aborting (this does not indicate an error and you can ignore this message): INVALID_ARGUMENT: You must feed a value for placeholder tensor 'Placeholder/_0' with dtype string and shape [25069]\n",
      "\t [[{{node Placeholder/_0}}]]\n",
      "2024-03-21 19:07:43.014209: I tensorflow/core/common_runtime/executor.cc:1197] [/device:CPU:0] (DEBUG INFO) Executor start aborting (this does not indicate an error and you can ignore this message): INVALID_ARGUMENT: You must feed a value for placeholder tensor 'Placeholder/_0' with dtype string and shape [25069]\n",
      "\t [[{{node Placeholder/_0}}]]\n"
     ]
    },
    {
     "name": "stdout",
     "output_type": "stream",
     "text": [
      "1828/1828 [==============================] - 1238s 675ms/step - loss: 5.2098 - masked_accuracy: 0.3057 - val_loss: 3.1506 - val_masked_accuracy: 0.4719\n",
      "Epoch 2/20\n",
      "1828/1828 [==============================] - 6788s 4s/step - loss: 2.7038 - masked_accuracy: 0.5437 - val_loss: 2.2882 - val_masked_accuracy: 0.5982\n",
      "Epoch 3/20\n",
      "1828/1828 [==============================] - 1511s 827ms/step - loss: 2.0986 - masked_accuracy: 0.6306 - val_loss: 1.8391 - val_masked_accuracy: 0.6653\n",
      "Epoch 4/20\n",
      "1828/1828 [==============================] - 1657s 906ms/step - loss: 1.7391 - masked_accuracy: 0.6860 - val_loss: 1.6624 - val_masked_accuracy: 0.6942\n",
      "Epoch 5/20\n",
      "1828/1828 [==============================] - 1289s 705ms/step - loss: 1.5621 - masked_accuracy: 0.7171 - val_loss: 1.5128 - val_masked_accuracy: 0.7192\n",
      "Epoch 6/20\n",
      "1828/1828 [==============================] - 1408s 770ms/step - loss: 1.4400 - masked_accuracy: 0.7373 - val_loss: 1.4500 - val_masked_accuracy: 0.7308\n",
      "Epoch 7/20\n",
      "1828/1828 [==============================] - 1361s 745ms/step - loss: 1.3521 - masked_accuracy: 0.7522 - val_loss: 1.4004 - val_masked_accuracy: 0.7406\n",
      "Epoch 8/20\n",
      "1828/1828 [==============================] - 1577s 863ms/step - loss: 1.2917 - masked_accuracy: 0.7632 - val_loss: 1.3779 - val_masked_accuracy: 0.7449\n",
      "Epoch 9/20\n",
      "1828/1828 [==============================] - 1519s 831ms/step - loss: 1.2430 - masked_accuracy: 0.7724 - val_loss: 1.3579 - val_masked_accuracy: 0.7489\n",
      "Epoch 10/20\n",
      "1828/1828 [==============================] - 1564s 855ms/step - loss: 1.2047 - masked_accuracy: 0.7797 - val_loss: 1.3533 - val_masked_accuracy: 0.7512\n",
      "Epoch 11/20\n",
      "1828/1828 [==============================] - 1615s 884ms/step - loss: 1.1729 - masked_accuracy: 0.7857 - val_loss: 1.3389 - val_masked_accuracy: 0.7532\n",
      "Epoch 12/20\n",
      "1828/1828 [==============================] - 2355s 1s/step - loss: 1.1437 - masked_accuracy: 0.7915 - val_loss: 1.3269 - val_masked_accuracy: 0.7564\n",
      "Epoch 13/20\n",
      "1828/1828 [==============================] - 4089s 2s/step - loss: 1.1171 - masked_accuracy: 0.7968 - val_loss: 1.3207 - val_masked_accuracy: 0.7585\n",
      "Epoch 14/20\n",
      "1828/1828 [==============================] - 3928s 2s/step - loss: 1.0943 - masked_accuracy: 0.8016 - val_loss: 1.3182 - val_masked_accuracy: 0.7589\n",
      "Epoch 15/20\n",
      "1828/1828 [==============================] - 4017s 2s/step - loss: 1.0717 - masked_accuracy: 0.8062 - val_loss: 1.3207 - val_masked_accuracy: 0.7595\n",
      "Epoch 16/20\n",
      "1828/1828 [==============================] - 3013s 2s/step - loss: 1.0526 - masked_accuracy: 0.8103 - val_loss: 1.3192 - val_masked_accuracy: 0.7605\n",
      "Epoch 17/20\n",
      "1828/1828 [==============================] - 1410s 771ms/step - loss: 1.0344 - masked_accuracy: 0.8139 - val_loss: 1.3170 - val_masked_accuracy: 0.7609\n",
      "Epoch 18/20\n",
      "1828/1828 [==============================] - 2148s 1s/step - loss: 1.0158 - masked_accuracy: 0.8178 - val_loss: 1.3159 - val_masked_accuracy: 0.7626\n",
      "Epoch 19/20\n",
      "1828/1828 [==============================] - 3083s 2s/step - loss: 0.9989 - masked_accuracy: 0.8212 - val_loss: 1.3220 - val_masked_accuracy: 0.7630\n",
      "Epoch 20/20\n",
      "1828/1828 [==============================] - 1385s 758ms/step - loss: 0.9844 - masked_accuracy: 0.8243 - val_loss: 1.3209 - val_masked_accuracy: 0.7632\n"
     ]
    },
    {
     "ename": "AttributeError",
     "evalue": "'Figure' object has no attribute 'subtitle'",
     "output_type": "error",
     "traceback": [
      "\u001b[0;31m---------------------------------------------------------------------------\u001b[0m",
      "\u001b[0;31mAttributeError\u001b[0m                            Traceback (most recent call last)",
      "Cell \u001b[0;32mIn[21], line 32\u001b[0m\n\u001b[1;32m     30\u001b[0m \u001b[38;5;66;03m# Plot the loss and accuracy history\u001b[39;00m\n\u001b[1;32m     31\u001b[0m fig, axs \u001b[38;5;241m=\u001b[39m plt\u001b[38;5;241m.\u001b[39msubplots(\u001b[38;5;241m2\u001b[39m, figsize\u001b[38;5;241m=\u001b[39m(\u001b[38;5;241m6\u001b[39m, \u001b[38;5;241m8\u001b[39m), sharex\u001b[38;5;241m=\u001b[39m\u001b[38;5;28;01mTrue\u001b[39;00m)\n\u001b[0;32m---> 32\u001b[0m fig\u001b[38;5;241m.\u001b[39msubtitle(\u001b[38;5;124m'\u001b[39m\u001b[38;5;124mTraining history\u001b[39m\u001b[38;5;124m'\u001b[39m)\n\u001b[1;32m     33\u001b[0m x \u001b[38;5;241m=\u001b[39m \u001b[38;5;28mlist\u001b[39m(\u001b[38;5;28mrange\u001b[39m(\u001b[38;5;241m1\u001b[39m, epochs\u001b[38;5;241m+\u001b[39m\u001b[38;5;241m1\u001b[39m))\n\u001b[1;32m     34\u001b[0m axs[\u001b[38;5;241m0\u001b[39m]\u001b[38;5;241m.\u001b[39mplot(x, history\u001b[38;5;241m.\u001b[39mhistory[\u001b[38;5;124m\"\u001b[39m\u001b[38;5;124mloss\u001b[39m\u001b[38;5;124m\"\u001b[39m], alpha\u001b[38;5;241m=\u001b[39m\u001b[38;5;241m0.5\u001b[39m, label\u001b[38;5;241m=\u001b[39m\u001b[38;5;124m\"\u001b[39m\u001b[38;5;124mloss\u001b[39m\u001b[38;5;124m\"\u001b[39m)\n",
      "\u001b[0;31mAttributeError\u001b[0m: 'Figure' object has no attribute 'subtitle'"
     ]
    },
    {
     "data": {
      "image/png": "[encoded data removed]",
      "text/plain": [
       "<Figure size 600x800 with 2 Axes>"
      ]
     },
     "metadata": {},
     "output_type": "display_data"
    }
   ],
   "source": [
    "import nbimporter\n",
    "import matplotlib.pyplot as plt\n",
    "import tensorflow as tf\n",
    "from transformer import transformer\n",
    "\n",
    "# the transformer building block\n",
    "from transformer import transformer\n",
    "# the learning rate schedule, loss, and accuracy functions\n",
    "from pre_training import CustomSchedule, masked_loss, masked_accuracy\n",
    "\n",
    "# Create and train the model\n",
    "seq_len = 20\n",
    "num_layers = 4\n",
    "num_heads = 8\n",
    "key_dim = 128\n",
    "ff_dim = 512\n",
    "dropout = 0.1\n",
    "vocab_size_en = 10000\n",
    "vocab_size_fr = 20000\n",
    "model = transformer(num_layers, num_heads, seq_len, key_dim, ff_dim, vocab_size_en, vocab_size_fr, dropout)\n",
    "lr = CustomSchedule(key_dim)\n",
    "optimizer = tf.keras.optimizers.Adam(lr, beta_1=0.9, beta_2=0.98, epsilon=1e-9)\n",
    "model.compile(loss=masked_loss, optimizer=optimizer, metrics=[masked_accuracy])\n",
    "epochs = 20\n",
    "history = model.fit(train_ds, epochs=epochs, validation_data=val_ds)\n",
    "\n",
    "# Save the trained model\n",
    "model.save(\"eng-fra-transformer.h5\")\n",
    "\n"
   ]
  },
  {
   "cell_type": "code",
   "execution_count": 22,
   "metadata": {},
   "outputs": [
    {
     "data": {
      "image/png": "[encoded data removed]",
      "text/plain": [
       "<Figure size 600x800 with 2 Axes>"
      ]
     },
     "metadata": {},
     "output_type": "display_data"
    }
   ],
   "source": [
    "# Plot the loss and accuracy history\n",
    "fig, axs = plt.subplots(2, figsize=(6, 8), sharex=True)\n",
    "fig.suptitle('Training history')\n",
    "x = list(range(1, epochs+1))\n",
    "axs[0].plot(x, history.history[\"loss\"], alpha=0.5, label=\"loss\")\n",
    "axs[0].plot(x, history.history[\"val_loss\"], alpha=0.5, label=\"val_loss\")\n",
    "axs[0].set_ylabel(\"Loss\")\n",
    "axs[0].legend(loc=\"upper right\")\n",
    "axs[1].plot(x, history.history[\"masked_accuracy\"], alpha=0.5, label=\"acc\")\n",
    "axs[1].plot(x, history.history[\"val_masked_accuracy\"], alpha=0.5, label=\"val_acc\")\n",
    "axs[1].set_ylabel(\"Accuracy\")\n",
    "axs[1].set_xlabel(\"epoch\")\n",
    "axs[1].legend(loc=\"lower right\")\n",
    "plt.show()"
   ]
  },
  {
   "cell_type": "code",
   "execution_count": 6,
   "metadata": {},
   "outputs": [],
   "source": [
    "import nbimporter\n",
    "import pickle\n",
    "import random\n",
    "\n",
    "import numpy as np\n",
    "import tensorflow as tf\n",
    "\n",
    "from util import PositionalEmbedding\n",
    "from pre_training import CustomSchedule, masked_loss, masked_accuracy\n",
    "\n",
    "custom_objects = {\"PositionalEmbedding\": PositionalEmbedding,\n",
    "                    \"CustomSchedule\": CustomSchedule}"
   ]
  }
 ],
 "metadata": {
  "kernelspec": {
   "display_name": "base",
   "language": "python",
   "name": "python3"
  },
  "language_info": {
   "codemirror_mode": {
    "name": "ipython",
    "version": 3
   },
   "file_extension": ".py",
   "mimetype": "text/x-python",
   "name": "python",
   "nbconvert_exporter": "python",
   "pygments_lexer": "ipython3",
   "version": "3.11.0"
  }
 },
 "nbformat": 4,
 "nbformat_minor": 2
}
